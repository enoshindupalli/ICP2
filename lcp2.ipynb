{
  "nbformat": 4,
  "nbformat_minor": 0,
  "metadata": {
    "colab": {
      "provenance": []
    },
    "kernelspec": {
      "name": "python3",
      "display_name": "Python 3"
    },
    "language_info": {
      "name": "python"
    }
  },
  "cells": [
    {
      "cell_type": "code",
      "execution_count": 17,
      "metadata": {
        "colab": {
          "base_uri": "https://localhost:8080/"
        },
        "id": "1MYD1SomCfI_",
        "outputId": "c1d8fef6-d049-44c4-ef56-008bac0f9b33"
      },
      "outputs": [
        {
          "output_type": "stream",
          "name": "stdout",
          "text": [
            "Average salary of employees: 85000.0\n",
            "Total number of employees: 4\n"
          ]
        }
      ],
      "source": [
        "class Employee:\n",
        "    # Class variable to count the number of employees\n",
        "    employee_count = 0\n",
        "    total_salary = 0\n",
        "\n",
        "    def __init__(self, name, family, salary, department):\n",
        "        self.name = name\n",
        "        self.family = family\n",
        "        self.salary = salary\n",
        "        self.department = department\n",
        "        Employee.employee_count += 1\n",
        "        Employee.total_salary += salary\n",
        "\n",
        "    @classmethod\n",
        "    def average_salary(cls):\n",
        "        if cls.employee_count == 0:\n",
        "            return 0\n",
        "        return cls.total_salary / cls.employee_count\n",
        "\n",
        "\n",
        "# FulltimeEmployee class inheriting from Employee\n",
        "class FulltimeEmployee(Employee):\n",
        "    def __init__(self, name, family, salary, department):\n",
        "        super().__init__(name, family, salary, department)\n",
        "\n",
        "\n",
        "if __name__ == \"__main__\":\n",
        "    # Creating instances of Employee and FulltimeEmployee\n",
        "    emp1 = Employee(\"Alice\", \"Smith\", 70000, \"Engineering\")\n",
        "    emp2 = Employee(\"Bob\", \"Johnson\", 80000, \"Marketing\")\n",
        "    full_emp1 = FulltimeEmployee(\"Charlie\", \"Brown\", 90000, \"Sales\")\n",
        "    full_emp2 = FulltimeEmployee(\"David\", \"Williams\", 100000, \"HR\")\n",
        "\n",
        "    # Displaying the average salary\n",
        "    print(\"Average salary of employees:\", Employee.average_salary())\n",
        "\n",
        "    # Displaying the number of employees\n",
        "    print(\"Total number of employees:\", Employee.employee_count)\n"
      ]
    },
    {
      "cell_type": "code",
      "source": [
        "import numpy as np\n",
        "\n",
        "#function to replace the maximum value in an array of axis x and y based on the condition\n",
        "def replace_maxmium(array, replace_value, axis):\n",
        "    result = np.where(array == np.max(\n",
        "        array, axis=1).reshape(-1, 1), 0 * array, array)\n",
        "    print(result)\n",
        "\n",
        "\n",
        " #creating a random vector of size 29 which is having in the range of 1-20\n",
        "randarr = np.random.random_sample(20) * 20 + 1\n",
        "print(randarr)\n",
        "\n",
        "    #reshaping the array to 4 by 5 in random20\n",
        "randarr_4by5 = randarr.reshape((4, 5))\n",
        "print(randarr_4by5)\n",
        "\n",
        "replace_maxmium(randarr_4by5, 0, 1)#replacing the max value in each row by zero"
      ],
      "metadata": {
        "colab": {
          "base_uri": "https://localhost:8080/"
        },
        "id": "puVdZ3kyDfcs",
        "outputId": "3120f216-f72e-42cb-dc23-1548bf19ecc8"
      },
      "execution_count": 16,
      "outputs": [
        {
          "output_type": "stream",
          "name": "stdout",
          "text": [
            "[20.55308303  3.46762457 10.56012231  9.68206734 10.331672   15.50237281\n",
            "  7.54755704 10.34059706 19.46184924  6.22487334 11.04105324 16.56770484\n",
            " 20.37931367 17.75713468 13.49206914  1.02332147 13.27831891 13.51746566\n",
            " 12.17329182  4.70013959]\n",
            "[[20.55308303  3.46762457 10.56012231  9.68206734 10.331672  ]\n",
            " [15.50237281  7.54755704 10.34059706 19.46184924  6.22487334]\n",
            " [11.04105324 16.56770484 20.37931367 17.75713468 13.49206914]\n",
            " [ 1.02332147 13.27831891 13.51746566 12.17329182  4.70013959]]\n",
            "[[ 0.          3.46762457 10.56012231  9.68206734 10.331672  ]\n",
            " [15.50237281  7.54755704 10.34059706  0.          6.22487334]\n",
            " [11.04105324 16.56770484  0.         17.75713468 13.49206914]\n",
            " [ 1.02332147 13.27831891  0.         12.17329182  4.70013959]]\n"
          ]
        }
      ]
    }
  ]
}